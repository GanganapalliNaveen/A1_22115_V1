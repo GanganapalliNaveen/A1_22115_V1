{
 "cells": [
  {
   "cell_type": "code",
   "execution_count": 4,
   "metadata": {},
   "outputs": [
    {
     "name": "stdout",
     "output_type": "stream",
     "text": [
      "count with a sum of 10: 3\n",
      "pairs with a sum of 10: [(4, 6), (3, 7), (2, 8)]\n"
     ]
    }
   ],
   "source": [
    "#QUESTION 01\n",
    "def sum(ist, final_sum):\n",
    "    pairs=[]\n",
    "    numbers= set()\n",
    "    count=0\n",
    "    for value in ist:\n",
    "        complement= final_sum - value\n",
    "        if complement in numbers:\n",
    "            pairs.append((complement,value))\n",
    "            count += 1\n",
    "        numbers.add(value)\n",
    "    return count,pairs\n",
    "input_list=list(map(int,input(\"Enter the numbers:\").split()))\n",
    "final_sum=int(input(\"Enter the target sum:\"))\n",
    "final_count, final_pairs =sum(input_list,final_sum)\n",
    "if final_count > 0:\n",
    "    print(f\"count with a sum of {final_sum}: {final_count}\")\n",
    "    print(f\"pairs with a sum of {final_sum}: {final_pairs}\")\n",
    "else:\n",
    "    print(f\"No pairs found{final_sum}\")"
   ]
  },
  {
   "cell_type": "code",
   "execution_count": 5,
   "metadata": {},
   "outputs": [
    {
     "name": "stdout",
     "output_type": "stream",
     "text": [
      "range [1.0, 2.0, 3.0, 4.0, 5.0, 6.0, 7.0] is: 6.0\n"
     ]
    }
   ],
   "source": [
    "#QUESTION 02\n",
    "\n",
    "def range(numbers):\n",
    "    if len(numbers) < 3:\n",
    "        return \"Range not posssible\"\n",
    "    minimum_number = min(numbers)\n",
    "    maximum_number = max(numbers)\n",
    "    return maximum_number - minimum_number\n",
    "try:\n",
    "    input_list = [float(x) for x in input(\"Enter the numbers: \").split()]\n",
    "except ValueError:\n",
    "    print(\"Invalid input.Enter valid real numbers.\")\n",
    "    exit()\n",
    "result = range(input_list)\n",
    "print(f\"range {input_list} is: {result}\")\n",
    "\n"
   ]
  },
  {
   "cell_type": "code",
   "execution_count": 6,
   "metadata": {},
   "outputs": [
    {
     "name": "stdout",
     "output_type": "stream",
     "text": [
      "Enter the values in the matrix = \n"
     ]
    },
    {
     "ename": "TypeError",
     "evalue": "object of type 'int' has no len()",
     "output_type": "error",
     "traceback": [
      "\u001b[1;31m---------------------------------------------------------------------------\u001b[0m",
      "\u001b[1;31mTypeError\u001b[0m                                 Traceback (most recent call last)",
      "Cell \u001b[1;32mIn[6], line 42\u001b[0m\n\u001b[0;32m     39\u001b[0m     output \u001b[38;5;241m=\u001b[39m power_multiplication(X,m)\n\u001b[0;32m     40\u001b[0m     \u001b[38;5;28mprint\u001b[39m(output)\n\u001b[1;32m---> 42\u001b[0m \u001b[43mMatrix\u001b[49m\u001b[43m(\u001b[49m\u001b[43m)\u001b[49m\n",
      "Cell \u001b[1;32mIn[6], line 26\u001b[0m, in \u001b[0;36mMatrix\u001b[1;34m()\u001b[0m\n\u001b[0;32m     23\u001b[0m X \u001b[38;5;241m=\u001b[39m []\n\u001b[0;32m     24\u001b[0m \u001b[38;5;28mprint\u001b[39m(\u001b[38;5;124m\"\u001b[39m\u001b[38;5;124mEnter the values in the matrix = \u001b[39m\u001b[38;5;124m\"\u001b[39m)\n\u001b[1;32m---> 26\u001b[0m \u001b[38;5;28;01mfor\u001b[39;00m a \u001b[38;5;129;01min\u001b[39;00m \u001b[38;5;28;43mrange\u001b[39;49m\u001b[43m(\u001b[49m\u001b[43mrows\u001b[49m\u001b[43m)\u001b[49m:\n\u001b[0;32m     27\u001b[0m     a \u001b[38;5;241m=\u001b[39m []\n\u001b[0;32m     28\u001b[0m     \u001b[38;5;28;01mfor\u001b[39;00m b \u001b[38;5;129;01min\u001b[39;00m \u001b[38;5;28mrange\u001b[39m(columns):\n",
      "Cell \u001b[1;32mIn[5], line 4\u001b[0m, in \u001b[0;36mrange\u001b[1;34m(numbers)\u001b[0m\n\u001b[0;32m      3\u001b[0m \u001b[38;5;28;01mdef\u001b[39;00m \u001b[38;5;21mrange\u001b[39m(numbers):\n\u001b[1;32m----> 4\u001b[0m     \u001b[38;5;28;01mif\u001b[39;00m \u001b[38;5;28;43mlen\u001b[39;49m\u001b[43m(\u001b[49m\u001b[43mnumbers\u001b[49m\u001b[43m)\u001b[49m \u001b[38;5;241m<\u001b[39m \u001b[38;5;241m3\u001b[39m:\n\u001b[0;32m      5\u001b[0m         \u001b[38;5;28;01mreturn\u001b[39;00m \u001b[38;5;124m\"\u001b[39m\u001b[38;5;124mRange not posssible\u001b[39m\u001b[38;5;124m\"\u001b[39m\n\u001b[0;32m      6\u001b[0m     minimum_number \u001b[38;5;241m=\u001b[39m \u001b[38;5;28mmin\u001b[39m(numbers)\n",
      "\u001b[1;31mTypeError\u001b[0m: object of type 'int' has no len()"
     ]
    }
   ],
   "source": [
    "#QUESTION 03\n",
    "def matrix_multiplication(X,Y):\n",
    "    final_ans = []\n",
    "    for a in range(len(X)):\n",
    "        rows = []\n",
    "        for b in range(len(Y[0])):\n",
    "            sum = 0\n",
    "            for c in range(len(Y)):\n",
    "                sum = X[a][c] + Y[c][b]\n",
    "            rows.append(sum)\n",
    "        final_ans.append(rows)\n",
    "    return final_ans\n",
    "\n",
    "def power_multiplication(X,m):\n",
    "    final_ans = X.copy()\n",
    "    for l in range(m-1):\n",
    "        final_ans = matrix_multiplication(final_ans,X)\n",
    "    return final_ans\n",
    "\n",
    "def Matrix():\n",
    "    rows = int(input(\"Enter the number of rows = \"))\n",
    "    columns = int(input(\"Enter the number of columns = \"))\n",
    "    X = []\n",
    "    print(\"Enter the values in the matrix = \")\n",
    "\n",
    "    for a in range(rows):\n",
    "        a = []\n",
    "        for b in range(columns):\n",
    "            values = int(input())\n",
    "            a.append(values)\n",
    "        X.append(a)\n",
    "    \n",
    "    print(X)\n",
    "\n",
    "    for row in X:\n",
    "        print(row)\n",
    "    \n",
    "    m = int(input(\"Enter the power to be applied to the matrix\"))\n",
    "    output = power_multiplication(X,m)\n",
    "    print(output)\n",
    "\n",
    "Matrix()\n",
    "\n"
   ]
  },
  {
   "cell_type": "code",
   "execution_count": 7,
   "metadata": {},
   "outputs": [
    {
     "name": "stdout",
     "output_type": "stream",
     "text": [
      "The most occurring character is 'i' & occurrence count is 2.\n"
     ]
    }
   ],
   "source": [
    "#QUESTION 04\n",
    "\n",
    "def occurring(input):\n",
    "    string1= ''.join(char.lower() for char in input if char.isalpha())\n",
    "    character_count={}\n",
    "    for char in string1:\n",
    "        character_count[char]=character_count.get(char,0)+1\n",
    "    maximum_character=max(character_count,key=character_count.get)\n",
    "    maximum_count=character_count[maximum_character]\n",
    "    return maximum_character, maximum_count\n",
    "input=input(\"Enter a string:\")\n",
    "final_character, final_count = occurring(input)\n",
    "print(f\"The most occurring character is '{final_character}' & occurrence count is {final_count}.\")"
   ]
  }
 ],
 "metadata": {
  "kernelspec": {
   "display_name": "Python 3",
   "language": "python",
   "name": "python3"
  },
  "language_info": {
   "codemirror_mode": {
    "name": "ipython",
    "version": 3
   },
   "file_extension": ".py",
   "mimetype": "text/x-python",
   "name": "python",
   "nbconvert_exporter": "python",
   "pygments_lexer": "ipython3",
   "version": "3.12.0"
  }
 },
 "nbformat": 4,
 "nbformat_minor": 2
}
